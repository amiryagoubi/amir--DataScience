{
 "cells": [
  {
   "cell_type": "markdown",
   "metadata": {},
   "source": [
    "# Coding Tips and Examples\n",
    "## This notebook contains various coding tips and programming examples compiled from interactions with ChatGPT.\n"
   ]
  },
  {
   "cell_type": "markdown",
   "metadata": {},
   "source": [
    "> when it comes to adding more content into your jupyter notebook, you could consider the following tips \n",
    "1. **Continue Adding Markdown and Code Cells:**  \n",
    ". **Markdown Cells:** Use these for titles, descriptions, notes, or any non-code content. You can add more structure with different levels of headings or even lists and links.  \n",
    ". **Code Cells:** These should contain executable code snippets and their outputs. This is where you can showcase coding tips and examples.\n",
    "2. **Formatting Markdwon Cells:**  \n",
    "You can enhance your Markdown cells with various formatting options like:  \n",
    ". Bold (\\*\\*text\\*\\*\\), Italics (\\*text\\*), or Strikethrough (\\~\\~text\\~\\~).  \n",
    ". Creating lists, either ordered (1. item) or unordered (\\- item).  \n",
    ". Adding links (\\[link text\\](URL)) and images (\\!\\[alt text\\](image URL)).\n",
    "3. **Executing Code Cells:**  \n",
    "When you add a code cell with Python code or any other supported language, execute it to see the results directly below the cell. This is especially useful for demonstrating examples or data visualizations with libraries like matplotlib or pandas.\n",
    "4. **Adding More Cells:**  \n",
    "You can add new cells at any point by selecting an existing cell and using the + button at the top of the notebook to add a cell below it. Alternatively, use the shortcuts A (insert cell above) or B (insert cell below) while in command mode (press Esc to enter command mode).\n"
   ]
  },
  {
   "cell_type": "markdown",
   "metadata": {},
   "source": [
    "> Working with Visual Studio Code (VS Code) makes it convenient to manage Jupyter notebooks and use Git directly from the integrated terminal or the source control panel. Here’s how you can add changes to your Jupyter notebook and update your GitHub repository using VS Code:\n",
    "1. **Open Your Notebook in VS Code:**  \n",
    ". <u>Launch VS Code</u> and Use the File Explorer (File > Open Folder) to navigate to the directory containing your notebook.\\\n",
    ". <u>Open the Notebook</u>: Double-click on the notebook file in the VS Code explorer to open it.\n",
    "2. **Modify the Notebook**\\\n",
    ". <u>Edit the Notebook</u>: Make your changes or add new content directly in the notebook interface within VS Code. You can add or modify cells as needed.\\\n",
    ". <u>Save Changes</u>: Regularly save your progress by pressing Ctrl+S or using the save option from the file menu.\n",
    "3. **Commit Changes Using Git in VS Code**\\\n",
    ". <u>Open the Source Control Panel</u>: Click on the Source Control icon on the sidebar (or press Ctrl+Shift+G).\\\n",
    ". <u>Stage Changes</u>: You'll see a list of changes in the 'Changes' section. Right-click on your notebook file and select \"Stage Changes\".\\\n",
    ". <u>Commit Changes</u>:  Enter a commit message in the message box at the top of the Source Control panel. Something descriptive about what changes you made, e.g., \"Add data analysis section to notebook.\" Then, click the checkmark icon to commit the changes.\n",
    "4. **Push Changes to GitHub**\\\n",
    ". <u>Open the Integrated Terminal</u>: You can open it by selecting View > Terminal or pressing **Ctrl+`** (that is the backtick key).\\\n",
    ". <u>push the Changes</u>: In the terminal, type the following command to push your changes: ~> **git push**\n",
    "<u>Hint</u>: If it’s the first time you're pushing or if you have set up a new branch, you might need to set the upstream branch: ~> **git push -u origin master**\n",
    "&rarr; Replace *master* with *main* if your branch is named main.\n",
    "\n",
    "5. **Verify on GitHub**\\\n",
    "~> <U>Check Your GitHub Repository</U>: After pushing your changes, visit your GitHub repository in a web browser to ensure that the changes have been correctly uploaded. You should see your latest commit message and the updated content in your notebook.\n",
    "\n",
    "*Additional Tips*\\\n",
    "&rarr; Pull Before You Start Working </u>: To ensure you're working with the latest version of the notebook, especially if you might have made changes from other devices or locations, pull the latest changes before you start working: **git pull**\n",
    "\n",
    "> By following these steps, you can effectively manage and update your Jupyter notebook projects using Visual Studio Code and keep your GitHub repository up to date. \n",
    "\n",
    "\n"
   ]
  },
  {
   "cell_type": "markdown",
   "metadata": {},
   "source": []
  }
 ],
 "metadata": {
  "kernelspec": {
   "display_name": "Python 3",
   "language": "python",
   "name": "python3"
  },
  "language_info": {
   "codemirror_mode": {
    "name": "ipython",
    "version": 3
   },
   "file_extension": ".py",
   "mimetype": "text/x-python",
   "name": "python",
   "nbconvert_exporter": "python",
   "pygments_lexer": "ipython3",
   "version": "3.11.4"
  }
 },
 "nbformat": 4,
 "nbformat_minor": 2
}
